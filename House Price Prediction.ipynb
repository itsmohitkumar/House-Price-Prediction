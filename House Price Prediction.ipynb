{
 "cells": [
  {
   "cell_type": "code",
   "execution_count": 1,
   "id": "42973378",
   "metadata": {},
   "outputs": [
    {
     "data": {
      "text/html": [
       "<div>\n",
       "<style scoped>\n",
       "    .dataframe tbody tr th:only-of-type {\n",
       "        vertical-align: middle;\n",
       "    }\n",
       "\n",
       "    .dataframe tbody tr th {\n",
       "        vertical-align: top;\n",
       "    }\n",
       "\n",
       "    .dataframe thead th {\n",
       "        text-align: right;\n",
       "    }\n",
       "</style>\n",
       "<table border=\"1\" class=\"dataframe\">\n",
       "  <thead>\n",
       "    <tr style=\"text-align: right;\">\n",
       "      <th></th>\n",
       "      <th>CRIM</th>\n",
       "      <th>ZN</th>\n",
       "      <th>INDUS</th>\n",
       "      <th>CHAS</th>\n",
       "      <th>NOX</th>\n",
       "      <th>RM</th>\n",
       "      <th>AGE</th>\n",
       "      <th>DIS</th>\n",
       "      <th>RAD</th>\n",
       "      <th>TAX</th>\n",
       "      <th>PTRATIO</th>\n",
       "      <th>B</th>\n",
       "      <th>LSTAT</th>\n",
       "      <th>MEDV</th>\n",
       "    </tr>\n",
       "  </thead>\n",
       "  <tbody>\n",
       "    <tr>\n",
       "      <th>0</th>\n",
       "      <td>0.00632</td>\n",
       "      <td>18.0</td>\n",
       "      <td>2.31</td>\n",
       "      <td>0</td>\n",
       "      <td>0.538</td>\n",
       "      <td>6.575</td>\n",
       "      <td>65.2</td>\n",
       "      <td>4.0900</td>\n",
       "      <td>1</td>\n",
       "      <td>296</td>\n",
       "      <td>15.3</td>\n",
       "      <td>396.90</td>\n",
       "      <td>4.98</td>\n",
       "      <td>24.0</td>\n",
       "    </tr>\n",
       "    <tr>\n",
       "      <th>1</th>\n",
       "      <td>0.02731</td>\n",
       "      <td>0.0</td>\n",
       "      <td>7.07</td>\n",
       "      <td>0</td>\n",
       "      <td>0.469</td>\n",
       "      <td>6.421</td>\n",
       "      <td>78.9</td>\n",
       "      <td>4.9671</td>\n",
       "      <td>2</td>\n",
       "      <td>242</td>\n",
       "      <td>17.8</td>\n",
       "      <td>396.90</td>\n",
       "      <td>9.14</td>\n",
       "      <td>21.6</td>\n",
       "    </tr>\n",
       "    <tr>\n",
       "      <th>2</th>\n",
       "      <td>0.02729</td>\n",
       "      <td>0.0</td>\n",
       "      <td>7.07</td>\n",
       "      <td>0</td>\n",
       "      <td>0.469</td>\n",
       "      <td>7.185</td>\n",
       "      <td>61.1</td>\n",
       "      <td>4.9671</td>\n",
       "      <td>2</td>\n",
       "      <td>242</td>\n",
       "      <td>17.8</td>\n",
       "      <td>392.83</td>\n",
       "      <td>4.03</td>\n",
       "      <td>34.7</td>\n",
       "    </tr>\n",
       "    <tr>\n",
       "      <th>3</th>\n",
       "      <td>0.03237</td>\n",
       "      <td>0.0</td>\n",
       "      <td>2.18</td>\n",
       "      <td>0</td>\n",
       "      <td>0.458</td>\n",
       "      <td>6.998</td>\n",
       "      <td>45.8</td>\n",
       "      <td>6.0622</td>\n",
       "      <td>3</td>\n",
       "      <td>222</td>\n",
       "      <td>18.7</td>\n",
       "      <td>394.63</td>\n",
       "      <td>2.94</td>\n",
       "      <td>33.4</td>\n",
       "    </tr>\n",
       "    <tr>\n",
       "      <th>4</th>\n",
       "      <td>0.06905</td>\n",
       "      <td>0.0</td>\n",
       "      <td>2.18</td>\n",
       "      <td>0</td>\n",
       "      <td>0.458</td>\n",
       "      <td>7.147</td>\n",
       "      <td>54.2</td>\n",
       "      <td>6.0622</td>\n",
       "      <td>3</td>\n",
       "      <td>222</td>\n",
       "      <td>18.7</td>\n",
       "      <td>396.90</td>\n",
       "      <td>5.33</td>\n",
       "      <td>36.2</td>\n",
       "    </tr>\n",
       "  </tbody>\n",
       "</table>\n",
       "</div>"
      ],
      "text/plain": [
       "      CRIM   ZN   INDUS   CHAS    NOX    RM   AGE     DIS   RAD  TAX  PTRATIO  \\\n",
       "0  0.00632  18.0    2.31     0  0.538  6.575  65.2  4.0900    1  296     15.3   \n",
       "1  0.02731   0.0    7.07     0  0.469  6.421  78.9  4.9671    2  242     17.8   \n",
       "2  0.02729   0.0    7.07     0  0.469  7.185  61.1  4.9671    2  242     17.8   \n",
       "3  0.03237   0.0    2.18     0  0.458  6.998  45.8  6.0622    3  222     18.7   \n",
       "4  0.06905   0.0    2.18     0  0.458  7.147  54.2  6.0622    3  222     18.7   \n",
       "\n",
       "      B    LSTAT  MEDV  \n",
       "0  396.90   4.98  24.0  \n",
       "1  396.90   9.14  21.6  \n",
       "2  392.83   4.03  34.7  \n",
       "3  394.63   2.94  33.4  \n",
       "4  396.90   5.33  36.2  "
      ]
     },
     "execution_count": 1,
     "metadata": {},
     "output_type": "execute_result"
    }
   ],
   "source": [
    "import pandas as pd\n",
    "housing = pd.read_csv(\"housing.csv\")\n",
    "housing.head()"
   ]
  },
  {
   "cell_type": "code",
   "execution_count": 2,
   "id": "43e7d218",
   "metadata": {},
   "outputs": [
    {
     "data": {
      "text/plain": [
       "array([[<AxesSubplot:title={'center':'CRIM'}>,\n",
       "        <AxesSubplot:title={'center':'ZN\\xa0'}>,\n",
       "        <AxesSubplot:title={'center':'INDUS\\xa0'}>,\n",
       "        <AxesSubplot:title={'center':'CHAS'}>],\n",
       "       [<AxesSubplot:title={'center':'NOX'}>,\n",
       "        <AxesSubplot:title={'center':'RM\\xa0'}>,\n",
       "        <AxesSubplot:title={'center':'AGE\\xa0'}>,\n",
       "        <AxesSubplot:title={'center':'DIS\\xa0'}>],\n",
       "       [<AxesSubplot:title={'center':'RAD'}>,\n",
       "        <AxesSubplot:title={'center':'TAX'}>,\n",
       "        <AxesSubplot:title={'center':'PTRATIO'}>,\n",
       "        <AxesSubplot:title={'center':'B\\xa0\\xa0'}>],\n",
       "       [<AxesSubplot:title={'center':'LSTAT'}>,\n",
       "        <AxesSubplot:title={'center':'MEDV'}>, <AxesSubplot:>,\n",
       "        <AxesSubplot:>]], dtype=object)"
      ]
     },
     "execution_count": 2,
     "metadata": {},
     "output_type": "execute_result"
    },
    {
     "data": {
      "image/png": "[encoded data removed]",
      "text/plain": [
       "<Figure size 1080x1080 with 16 Axes>"
      ]
     },
     "metadata": {
      "needs_background": "light"
     },
     "output_type": "display_data"
    }
   ],
   "source": [
    "%matplotlib inline\n",
    "import matplotlib.pyplot as plt\n",
    "housing.hist(bins=10, figsize=(15,15))"
   ]
  },
  {
   "cell_type": "code",
   "execution_count": 3,
   "id": "a98e0472",
   "metadata": {},
   "outputs": [
    {
     "name": "stdout",
     "output_type": "stream",
     "text": [
      "Rows in train set:101\n",
      "Rows in test set:405\n"
     ]
    }
   ],
   "source": [
    "from sklearn.model_selection import train_test_split\n",
    "train_set, test_set = train_test_split(housing, test_size=0.8, random_state=42)\n",
    "print(f\"Rows in train set:{len(train_set)}\\nRows in test set:{len(test_set)}\")"
   ]
  },
  {
   "cell_type": "code",
   "execution_count": 4,
   "id": "7f598de0",
   "metadata": {},
   "outputs": [],
   "source": [
    "from sklearn.model_selection import StratifiedShuffleSplit\n",
    "split = StratifiedShuffleSplit(n_splits=1, test_size=0.8, random_state=42)\n",
    "for train_index, test_index in split.split(housing, housing[\"CHAS\"]):\n",
    "    strat_train_set = housing.iloc[train_index]\n",
    "    strat_test_set = housing.iloc[test_index]\n",
    "    "
   ]
  },
  {
   "cell_type": "code",
   "execution_count": 5,
   "id": "3930ef3c",
   "metadata": {},
   "outputs": [
    {
     "data": {
      "text/plain": [
       "CRIM      ZN    INDUS   CHAS  NOX    RM     AGE   DIS     RAD  TAX  PTRATIO  B       LSTAT  MEDV\n",
       "0.00632   18.0  2.31    0     0.538  6.575  65.2  4.0900  1    296  15.3     396.90  4.98   24.0    1\n",
       "0.80271   0.0   8.14    0     0.538  5.456  36.6  3.7965  4    307  21.0     288.99  11.69  20.2    1\n",
       "3.69311   0.0   18.10   0     0.713  6.376  88.4  2.5671  24   666  20.2     391.43  14.65  17.7    1\n",
       "2.73397   0.0   19.58   0     0.871  5.597  94.9  1.5257  5    403  14.7     351.85  21.45  15.4    1\n",
       "2.24236   0.0   19.58   0     0.605  5.854  91.8  2.4220  5    403  14.7     395.11  11.64  22.7    1\n",
       "                                                                                                   ..\n",
       "0.11132   0.0   27.74   0     0.609  5.983  83.5  2.1099  4    711  20.1     396.90  13.35  20.1    1\n",
       "0.10153   0.0   12.83   0     0.437  6.279  74.5  4.0522  5    398  18.7     373.66  11.97  20.0    1\n",
       "0.09849   0.0   25.65   0     0.581  5.879  95.8  2.0063  2    188  19.1     379.38  17.58  18.8    1\n",
       "0.09512   0.0   12.83   0     0.437  6.286  45.0  4.5026  5    398  18.7     383.23  8.94   21.4    1\n",
       "25.94060  0.0   18.10   0     0.679  5.304  89.1  1.6475  24   666  20.2     127.36  26.64  10.4    1\n",
       "Length: 101, dtype: int64"
      ]
     },
     "execution_count": 5,
     "metadata": {},
     "output_type": "execute_result"
    }
   ],
   "source": [
    "strat_train_set.value_counts()"
   ]
  },
  {
   "cell_type": "code",
   "execution_count": 6,
   "id": "18697beb",
   "metadata": {},
   "outputs": [
    {
     "data": {
      "text/plain": [
       "CRIM      ZN    INDUS   CHAS  NOX    RM     AGE    DIS      RAD  TAX  PTRATIO  B       LSTAT  MEDV\n",
       "0.00906   90.0  2.97    0     0.400  7.088  20.8   7.3073   1    285  15.3     394.72  7.85   32.2    1\n",
       "1.05393   0.0   8.14    0     0.538  5.935  29.3   4.4986   4    307  21.0     386.85  6.58   23.1    1\n",
       "1.49632   0.0   19.58   0     0.871  5.404  100.0  1.5916   5    403  14.7     341.60  13.28  19.6    1\n",
       "1.46336   0.0   19.58   0     0.605  7.489  90.8   1.9709   5    403  14.7     374.43  1.73   50.0    1\n",
       "1.41385   0.0   19.58   1     0.871  6.129  96.0   1.7494   5    403  14.7     321.02  15.12  17.0    1\n",
       "                                                                                                     ..\n",
       "0.10959   0.0   11.93   0     0.573  6.794  89.3   2.3889   1    273  21.0     393.45  6.48   22.0    1\n",
       "0.10793   0.0   8.56    0     0.520  6.195  54.4   2.7778   5    384  20.9     393.49  13.00  21.7    1\n",
       "0.10659   80.0  1.91    0     0.413  5.936  19.5   10.5857  4    334  22.0     376.04  5.57   20.6    1\n",
       "0.10612   30.0  4.93    0     0.428  6.095  65.1   6.3361   6    300  16.6     394.62  12.40  20.1    1\n",
       "88.97620  0.0   18.10   0     0.671  6.968  91.9   1.4165   24   666  20.2     396.90  17.21  10.4    1\n",
       "Length: 405, dtype: int64"
      ]
     },
     "execution_count": 6,
     "metadata": {},
     "output_type": "execute_result"
    }
   ],
   "source": [
    "strat_test_set.value_counts()"
   ]
  },
  {
   "cell_type": "code",
   "execution_count": 7,
   "id": "199bbdea",
   "metadata": {},
   "outputs": [],
   "source": [
    "#correlation:\n"
   ]
  },
  {
   "cell_type": "code",
   "execution_count": 8,
   "id": "93b5f048",
   "metadata": {},
   "outputs": [],
   "source": [
    "corr_matrix = housing.corr()"
   ]
  },
  {
   "cell_type": "code",
   "execution_count": 9,
   "id": "d8bf7bd9",
   "metadata": {},
   "outputs": [
    {
     "data": {
      "text/plain": [
       "CHAS       1.000000\n",
       "MEDV       0.175260\n",
       "RM         0.091251\n",
       "NOX        0.091203\n",
       "AGE        0.086518\n",
       "INDUS      0.062938\n",
       "B          0.048788\n",
       "RAD       -0.007368\n",
       "TAX       -0.035587\n",
       "ZN        -0.042697\n",
       "LSTAT     -0.053929\n",
       "CRIM      -0.055892\n",
       "DIS       -0.099176\n",
       "PTRATIO   -0.121515\n",
       "Name: CHAS, dtype: float64"
      ]
     },
     "execution_count": 9,
     "metadata": {},
     "output_type": "execute_result"
    }
   ],
   "source": [
    "corr_matrix[\"CHAS\"].sort_values(ascending=False)"
   ]
  },
  {
   "cell_type": "code",
   "execution_count": 10,
   "id": "d949764b",
   "metadata": {},
   "outputs": [
    {
     "data": {
      "text/plain": [
       "array([[<AxesSubplot:xlabel='MEDV', ylabel='MEDV'>,\n",
       "        <AxesSubplot:xlabel='RAD', ylabel='MEDV'>,\n",
       "        <AxesSubplot:xlabel='TAX', ylabel='MEDV'>,\n",
       "        <AxesSubplot:xlabel='CHAS', ylabel='MEDV'>],\n",
       "       [<AxesSubplot:xlabel='MEDV', ylabel='RAD'>,\n",
       "        <AxesSubplot:xlabel='RAD', ylabel='RAD'>,\n",
       "        <AxesSubplot:xlabel='TAX', ylabel='RAD'>,\n",
       "        <AxesSubplot:xlabel='CHAS', ylabel='RAD'>],\n",
       "       [<AxesSubplot:xlabel='MEDV', ylabel='TAX'>,\n",
       "        <AxesSubplot:xlabel='RAD', ylabel='TAX'>,\n",
       "        <AxesSubplot:xlabel='TAX', ylabel='TAX'>,\n",
       "        <AxesSubplot:xlabel='CHAS', ylabel='TAX'>],\n",
       "       [<AxesSubplot:xlabel='MEDV', ylabel='CHAS'>,\n",
       "        <AxesSubplot:xlabel='RAD', ylabel='CHAS'>,\n",
       "        <AxesSubplot:xlabel='TAX', ylabel='CHAS'>,\n",
       "        <AxesSubplot:xlabel='CHAS', ylabel='CHAS'>]], dtype=object)"
      ]
     },
     "execution_count": 10,
     "metadata": {},
     "output_type": "execute_result"
    },
    {
     "data": {
      "image/png": "[encoded data removed]",
      "text/plain": [
       "<Figure size 1080x1080 with 16 Axes>"
      ]
     },
     "metadata": {
      "needs_background": "light"
     },
     "output_type": "display_data"
    }
   ],
   "source": [
    "from pandas.plotting import scatter_matrix\n",
    "attributes = [\"MEDV\", \"RAD\", \"TAX\", \"CHAS\"]\n",
    "scatter_matrix(housing[attributes], figsize=(15,15))"
   ]
  },
  {
   "cell_type": "code",
   "execution_count": 11,
   "id": "91964850",
   "metadata": {},
   "outputs": [],
   "source": [
    "#comparing attributes:"
   ]
  },
  {
   "cell_type": "code",
   "execution_count": 12,
   "id": "62a67d9e",
   "metadata": {},
   "outputs": [],
   "source": [
    "housing[\"RADTAX\"] = (housing[\"RAD\"]/housing[\"TAX\"])"
   ]
  },
  {
   "cell_type": "code",
   "execution_count": 13,
   "id": "3aae70e4",
   "metadata": {},
   "outputs": [
    {
     "name": "stdout",
     "output_type": "stream",
     "text": [
      "<class 'pandas.core.series.Series'>\n",
      "RangeIndex: 506 entries, 0 to 505\n",
      "Series name: RADTAX\n",
      "Non-Null Count  Dtype  \n",
      "--------------  -----  \n",
      "506 non-null    float64\n",
      "dtypes: float64(1)\n",
      "memory usage: 4.1 KB\n"
     ]
    }
   ],
   "source": [
    "housing[\"RADTAX\"].info()"
   ]
  },
  {
   "cell_type": "code",
   "execution_count": 14,
   "id": "53eacb76",
   "metadata": {},
   "outputs": [
    {
     "data": {
      "text/plain": [
       "count    506.000000\n",
       "mean       0.020124\n",
       "std        0.010665\n",
       "min        0.002370\n",
       "25%        0.012563\n",
       "50%        0.015717\n",
       "75%        0.036036\n",
       "max        0.036036\n",
       "Name: RADTAX, dtype: float64"
      ]
     },
     "execution_count": 14,
     "metadata": {},
     "output_type": "execute_result"
    }
   ],
   "source": [
    "housing[\"RADTAX\"].describe()"
   ]
  },
  {
   "cell_type": "code",
   "execution_count": 15,
   "id": "3964ef79",
   "metadata": {},
   "outputs": [
    {
     "data": {
      "image/png": "[encoded data removed]",
      "text/plain": [
       "<Figure size 432x288 with 1 Axes>"
      ]
     },
     "metadata": {
      "needs_background": "light"
     },
     "output_type": "display_data"
    }
   ],
   "source": [
    "import matplotlib.pyplot as plt\n",
    "housing.plot(kind=\"scatter\", x=\"RAD\", y=\"TAX\", alpha=0.8)\n",
    "plt.grid()"
   ]
  },
  {
   "cell_type": "code",
   "execution_count": 16,
   "id": "b44db90a",
   "metadata": {},
   "outputs": [],
   "source": [
    "housing = strat_train_set.drop(\"MEDV\", axis=1)\n",
    "housing_labels = strat_train_set[\"MEDV\"].copy()"
   ]
  },
  {
   "cell_type": "code",
   "execution_count": 17,
   "id": "8e3cb114",
   "metadata": {},
   "outputs": [],
   "source": [
    "#missing attributes:"
   ]
  },
  {
   "cell_type": "code",
   "execution_count": 18,
   "id": "932b4f82",
   "metadata": {},
   "outputs": [
    {
     "data": {
      "text/html": [
       "<div>\n",
       "<style scoped>\n",
       "    .dataframe tbody tr th:only-of-type {\n",
       "        vertical-align: middle;\n",
       "    }\n",
       "\n",
       "    .dataframe tbody tr th {\n",
       "        vertical-align: top;\n",
       "    }\n",
       "\n",
       "    .dataframe thead th {\n",
       "        text-align: right;\n",
       "    }\n",
       "</style>\n",
       "<table border=\"1\" class=\"dataframe\">\n",
       "  <thead>\n",
       "    <tr style=\"text-align: right;\">\n",
       "      <th></th>\n",
       "      <th>CRIM</th>\n",
       "      <th>ZN</th>\n",
       "      <th>INDUS</th>\n",
       "      <th>CHAS</th>\n",
       "      <th>NOX</th>\n",
       "      <th>RM</th>\n",
       "      <th>AGE</th>\n",
       "      <th>DIS</th>\n",
       "      <th>RAD</th>\n",
       "      <th>TAX</th>\n",
       "      <th>PTRATIO</th>\n",
       "      <th>B</th>\n",
       "      <th>LSTAT</th>\n",
       "    </tr>\n",
       "  </thead>\n",
       "  <tbody>\n",
       "    <tr>\n",
       "      <th>55</th>\n",
       "      <td>0.01311</td>\n",
       "      <td>90.0</td>\n",
       "      <td>1.22</td>\n",
       "      <td>0</td>\n",
       "      <td>0.403</td>\n",
       "      <td>7.249</td>\n",
       "      <td>21.9</td>\n",
       "      <td>8.6966</td>\n",
       "      <td>5</td>\n",
       "      <td>226</td>\n",
       "      <td>17.9</td>\n",
       "      <td>395.93</td>\n",
       "      <td>4.81</td>\n",
       "    </tr>\n",
       "    <tr>\n",
       "      <th>157</th>\n",
       "      <td>1.22358</td>\n",
       "      <td>0.0</td>\n",
       "      <td>19.58</td>\n",
       "      <td>0</td>\n",
       "      <td>0.605</td>\n",
       "      <td>6.943</td>\n",
       "      <td>97.4</td>\n",
       "      <td>1.8773</td>\n",
       "      <td>5</td>\n",
       "      <td>403</td>\n",
       "      <td>14.7</td>\n",
       "      <td>363.43</td>\n",
       "      <td>4.59</td>\n",
       "    </tr>\n",
       "    <tr>\n",
       "      <th>325</th>\n",
       "      <td>0.19186</td>\n",
       "      <td>0.0</td>\n",
       "      <td>7.38</td>\n",
       "      <td>0</td>\n",
       "      <td>0.493</td>\n",
       "      <td>6.431</td>\n",
       "      <td>14.7</td>\n",
       "      <td>5.4159</td>\n",
       "      <td>5</td>\n",
       "      <td>287</td>\n",
       "      <td>19.6</td>\n",
       "      <td>393.68</td>\n",
       "      <td>5.08</td>\n",
       "    </tr>\n",
       "    <tr>\n",
       "      <th>419</th>\n",
       "      <td>11.81230</td>\n",
       "      <td>0.0</td>\n",
       "      <td>18.10</td>\n",
       "      <td>0</td>\n",
       "      <td>0.718</td>\n",
       "      <td>6.824</td>\n",
       "      <td>76.5</td>\n",
       "      <td>1.7940</td>\n",
       "      <td>24</td>\n",
       "      <td>666</td>\n",
       "      <td>20.2</td>\n",
       "      <td>48.45</td>\n",
       "      <td>22.74</td>\n",
       "    </tr>\n",
       "    <tr>\n",
       "      <th>249</th>\n",
       "      <td>0.19073</td>\n",
       "      <td>22.0</td>\n",
       "      <td>5.86</td>\n",
       "      <td>0</td>\n",
       "      <td>0.431</td>\n",
       "      <td>6.718</td>\n",
       "      <td>17.5</td>\n",
       "      <td>7.8265</td>\n",
       "      <td>7</td>\n",
       "      <td>330</td>\n",
       "      <td>19.1</td>\n",
       "      <td>393.74</td>\n",
       "      <td>6.56</td>\n",
       "    </tr>\n",
       "    <tr>\n",
       "      <th>...</th>\n",
       "      <td>...</td>\n",
       "      <td>...</td>\n",
       "      <td>...</td>\n",
       "      <td>...</td>\n",
       "      <td>...</td>\n",
       "      <td>...</td>\n",
       "      <td>...</td>\n",
       "      <td>...</td>\n",
       "      <td>...</td>\n",
       "      <td>...</td>\n",
       "      <td>...</td>\n",
       "      <td>...</td>\n",
       "      <td>...</td>\n",
       "    </tr>\n",
       "    <tr>\n",
       "      <th>267</th>\n",
       "      <td>0.57834</td>\n",
       "      <td>20.0</td>\n",
       "      <td>3.97</td>\n",
       "      <td>0</td>\n",
       "      <td>0.575</td>\n",
       "      <td>8.297</td>\n",
       "      <td>67.0</td>\n",
       "      <td>2.4216</td>\n",
       "      <td>5</td>\n",
       "      <td>264</td>\n",
       "      <td>13.0</td>\n",
       "      <td>384.54</td>\n",
       "      <td>7.44</td>\n",
       "    </tr>\n",
       "    <tr>\n",
       "      <th>435</th>\n",
       "      <td>11.16040</td>\n",
       "      <td>0.0</td>\n",
       "      <td>18.10</td>\n",
       "      <td>0</td>\n",
       "      <td>0.740</td>\n",
       "      <td>6.629</td>\n",
       "      <td>94.6</td>\n",
       "      <td>2.1247</td>\n",
       "      <td>24</td>\n",
       "      <td>666</td>\n",
       "      <td>20.2</td>\n",
       "      <td>109.85</td>\n",
       "      <td>23.27</td>\n",
       "    </tr>\n",
       "    <tr>\n",
       "      <th>137</th>\n",
       "      <td>0.35233</td>\n",
       "      <td>0.0</td>\n",
       "      <td>21.89</td>\n",
       "      <td>0</td>\n",
       "      <td>0.624</td>\n",
       "      <td>6.454</td>\n",
       "      <td>98.4</td>\n",
       "      <td>1.8498</td>\n",
       "      <td>4</td>\n",
       "      <td>437</td>\n",
       "      <td>21.2</td>\n",
       "      <td>394.08</td>\n",
       "      <td>14.59</td>\n",
       "    </tr>\n",
       "    <tr>\n",
       "      <th>258</th>\n",
       "      <td>0.66351</td>\n",
       "      <td>20.0</td>\n",
       "      <td>3.97</td>\n",
       "      <td>0</td>\n",
       "      <td>0.647</td>\n",
       "      <td>7.333</td>\n",
       "      <td>100.0</td>\n",
       "      <td>1.8946</td>\n",
       "      <td>5</td>\n",
       "      <td>264</td>\n",
       "      <td>13.0</td>\n",
       "      <td>383.29</td>\n",
       "      <td>7.79</td>\n",
       "    </tr>\n",
       "    <tr>\n",
       "      <th>131</th>\n",
       "      <td>1.19294</td>\n",
       "      <td>0.0</td>\n",
       "      <td>21.89</td>\n",
       "      <td>0</td>\n",
       "      <td>0.624</td>\n",
       "      <td>6.326</td>\n",
       "      <td>97.7</td>\n",
       "      <td>2.2710</td>\n",
       "      <td>4</td>\n",
       "      <td>437</td>\n",
       "      <td>21.2</td>\n",
       "      <td>396.90</td>\n",
       "      <td>12.26</td>\n",
       "    </tr>\n",
       "  </tbody>\n",
       "</table>\n",
       "<p>101 rows × 13 columns</p>\n",
       "</div>"
      ],
      "text/plain": [
       "         CRIM   ZN   INDUS   CHAS    NOX    RM    AGE     DIS   RAD  TAX  \\\n",
       "55    0.01311  90.0    1.22     0  0.403  7.249   21.9  8.6966    5  226   \n",
       "157   1.22358   0.0   19.58     0  0.605  6.943   97.4  1.8773    5  403   \n",
       "325   0.19186   0.0    7.38     0  0.493  6.431   14.7  5.4159    5  287   \n",
       "419  11.81230   0.0   18.10     0  0.718  6.824   76.5  1.7940   24  666   \n",
       "249   0.19073  22.0    5.86     0  0.431  6.718   17.5  7.8265    7  330   \n",
       "..        ...   ...     ...   ...    ...    ...    ...     ...  ...  ...   \n",
       "267   0.57834  20.0    3.97     0  0.575  8.297   67.0  2.4216    5  264   \n",
       "435  11.16040   0.0   18.10     0  0.740  6.629   94.6  2.1247   24  666   \n",
       "137   0.35233   0.0   21.89     0  0.624  6.454   98.4  1.8498    4  437   \n",
       "258   0.66351  20.0    3.97     0  0.647  7.333  100.0  1.8946    5  264   \n",
       "131   1.19294   0.0   21.89     0  0.624  6.326   97.7  2.2710    4  437   \n",
       "\n",
       "     PTRATIO     B    LSTAT  \n",
       "55      17.9  395.93   4.81  \n",
       "157     14.7  363.43   4.59  \n",
       "325     19.6  393.68   5.08  \n",
       "419     20.2   48.45  22.74  \n",
       "249     19.1  393.74   6.56  \n",
       "..       ...     ...    ...  \n",
       "267     13.0  384.54   7.44  \n",
       "435     20.2  109.85  23.27  \n",
       "137     21.2  394.08  14.59  \n",
       "258     13.0  383.29   7.79  \n",
       "131     21.2  396.90  12.26  \n",
       "\n",
       "[101 rows x 13 columns]"
      ]
     },
     "execution_count": 18,
     "metadata": {},
     "output_type": "execute_result"
    }
   ],
   "source": [
    "housing.dropna(subset=\"RAD\")"
   ]
  },
  {
   "cell_type": "code",
   "execution_count": 19,
   "id": "222ee669",
   "metadata": {},
   "outputs": [
    {
     "data": {
      "text/html": [
       "<div>\n",
       "<style scoped>\n",
       "    .dataframe tbody tr th:only-of-type {\n",
       "        vertical-align: middle;\n",
       "    }\n",
       "\n",
       "    .dataframe tbody tr th {\n",
       "        vertical-align: top;\n",
       "    }\n",
       "\n",
       "    .dataframe thead th {\n",
       "        text-align: right;\n",
       "    }\n",
       "</style>\n",
       "<table border=\"1\" class=\"dataframe\">\n",
       "  <thead>\n",
       "    <tr style=\"text-align: right;\">\n",
       "      <th></th>\n",
       "      <th>CRIM</th>\n",
       "      <th>ZN</th>\n",
       "      <th>INDUS</th>\n",
       "      <th>CHAS</th>\n",
       "      <th>NOX</th>\n",
       "      <th>RM</th>\n",
       "      <th>AGE</th>\n",
       "      <th>DIS</th>\n",
       "      <th>TAX</th>\n",
       "      <th>PTRATIO</th>\n",
       "      <th>B</th>\n",
       "      <th>LSTAT</th>\n",
       "    </tr>\n",
       "  </thead>\n",
       "  <tbody>\n",
       "    <tr>\n",
       "      <th>55</th>\n",
       "      <td>0.01311</td>\n",
       "      <td>90.0</td>\n",
       "      <td>1.22</td>\n",
       "      <td>0</td>\n",
       "      <td>0.403</td>\n",
       "      <td>7.249</td>\n",
       "      <td>21.9</td>\n",
       "      <td>8.6966</td>\n",
       "      <td>226</td>\n",
       "      <td>17.9</td>\n",
       "      <td>395.93</td>\n",
       "      <td>4.81</td>\n",
       "    </tr>\n",
       "    <tr>\n",
       "      <th>157</th>\n",
       "      <td>1.22358</td>\n",
       "      <td>0.0</td>\n",
       "      <td>19.58</td>\n",
       "      <td>0</td>\n",
       "      <td>0.605</td>\n",
       "      <td>6.943</td>\n",
       "      <td>97.4</td>\n",
       "      <td>1.8773</td>\n",
       "      <td>403</td>\n",
       "      <td>14.7</td>\n",
       "      <td>363.43</td>\n",
       "      <td>4.59</td>\n",
       "    </tr>\n",
       "    <tr>\n",
       "      <th>325</th>\n",
       "      <td>0.19186</td>\n",
       "      <td>0.0</td>\n",
       "      <td>7.38</td>\n",
       "      <td>0</td>\n",
       "      <td>0.493</td>\n",
       "      <td>6.431</td>\n",
       "      <td>14.7</td>\n",
       "      <td>5.4159</td>\n",
       "      <td>287</td>\n",
       "      <td>19.6</td>\n",
       "      <td>393.68</td>\n",
       "      <td>5.08</td>\n",
       "    </tr>\n",
       "    <tr>\n",
       "      <th>419</th>\n",
       "      <td>11.81230</td>\n",
       "      <td>0.0</td>\n",
       "      <td>18.10</td>\n",
       "      <td>0</td>\n",
       "      <td>0.718</td>\n",
       "      <td>6.824</td>\n",
       "      <td>76.5</td>\n",
       "      <td>1.7940</td>\n",
       "      <td>666</td>\n",
       "      <td>20.2</td>\n",
       "      <td>48.45</td>\n",
       "      <td>22.74</td>\n",
       "    </tr>\n",
       "    <tr>\n",
       "      <th>249</th>\n",
       "      <td>0.19073</td>\n",
       "      <td>22.0</td>\n",
       "      <td>5.86</td>\n",
       "      <td>0</td>\n",
       "      <td>0.431</td>\n",
       "      <td>6.718</td>\n",
       "      <td>17.5</td>\n",
       "      <td>7.8265</td>\n",
       "      <td>330</td>\n",
       "      <td>19.1</td>\n",
       "      <td>393.74</td>\n",
       "      <td>6.56</td>\n",
       "    </tr>\n",
       "    <tr>\n",
       "      <th>...</th>\n",
       "      <td>...</td>\n",
       "      <td>...</td>\n",
       "      <td>...</td>\n",
       "      <td>...</td>\n",
       "      <td>...</td>\n",
       "      <td>...</td>\n",
       "      <td>...</td>\n",
       "      <td>...</td>\n",
       "      <td>...</td>\n",
       "      <td>...</td>\n",
       "      <td>...</td>\n",
       "      <td>...</td>\n",
       "    </tr>\n",
       "    <tr>\n",
       "      <th>267</th>\n",
       "      <td>0.57834</td>\n",
       "      <td>20.0</td>\n",
       "      <td>3.97</td>\n",
       "      <td>0</td>\n",
       "      <td>0.575</td>\n",
       "      <td>8.297</td>\n",
       "      <td>67.0</td>\n",
       "      <td>2.4216</td>\n",
       "      <td>264</td>\n",
       "      <td>13.0</td>\n",
       "      <td>384.54</td>\n",
       "      <td>7.44</td>\n",
       "    </tr>\n",
       "    <tr>\n",
       "      <th>435</th>\n",
       "      <td>11.16040</td>\n",
       "      <td>0.0</td>\n",
       "      <td>18.10</td>\n",
       "      <td>0</td>\n",
       "      <td>0.740</td>\n",
       "      <td>6.629</td>\n",
       "      <td>94.6</td>\n",
       "      <td>2.1247</td>\n",
       "      <td>666</td>\n",
       "      <td>20.2</td>\n",
       "      <td>109.85</td>\n",
       "      <td>23.27</td>\n",
       "    </tr>\n",
       "    <tr>\n",
       "      <th>137</th>\n",
       "      <td>0.35233</td>\n",
       "      <td>0.0</td>\n",
       "      <td>21.89</td>\n",
       "      <td>0</td>\n",
       "      <td>0.624</td>\n",
       "      <td>6.454</td>\n",
       "      <td>98.4</td>\n",
       "      <td>1.8498</td>\n",
       "      <td>437</td>\n",
       "      <td>21.2</td>\n",
       "      <td>394.08</td>\n",
       "      <td>14.59</td>\n",
       "    </tr>\n",
       "    <tr>\n",
       "      <th>258</th>\n",
       "      <td>0.66351</td>\n",
       "      <td>20.0</td>\n",
       "      <td>3.97</td>\n",
       "      <td>0</td>\n",
       "      <td>0.647</td>\n",
       "      <td>7.333</td>\n",
       "      <td>100.0</td>\n",
       "      <td>1.8946</td>\n",
       "      <td>264</td>\n",
       "      <td>13.0</td>\n",
       "      <td>383.29</td>\n",
       "      <td>7.79</td>\n",
       "    </tr>\n",
       "    <tr>\n",
       "      <th>131</th>\n",
       "      <td>1.19294</td>\n",
       "      <td>0.0</td>\n",
       "      <td>21.89</td>\n",
       "      <td>0</td>\n",
       "      <td>0.624</td>\n",
       "      <td>6.326</td>\n",
       "      <td>97.7</td>\n",
       "      <td>2.2710</td>\n",
       "      <td>437</td>\n",
       "      <td>21.2</td>\n",
       "      <td>396.90</td>\n",
       "      <td>12.26</td>\n",
       "    </tr>\n",
       "  </tbody>\n",
       "</table>\n",
       "<p>101 rows × 12 columns</p>\n",
       "</div>"
      ],
      "text/plain": [
       "         CRIM   ZN   INDUS   CHAS    NOX    RM    AGE     DIS   TAX  PTRATIO  \\\n",
       "55    0.01311  90.0    1.22     0  0.403  7.249   21.9  8.6966  226     17.9   \n",
       "157   1.22358   0.0   19.58     0  0.605  6.943   97.4  1.8773  403     14.7   \n",
       "325   0.19186   0.0    7.38     0  0.493  6.431   14.7  5.4159  287     19.6   \n",
       "419  11.81230   0.0   18.10     0  0.718  6.824   76.5  1.7940  666     20.2   \n",
       "249   0.19073  22.0    5.86     0  0.431  6.718   17.5  7.8265  330     19.1   \n",
       "..        ...   ...     ...   ...    ...    ...    ...     ...  ...      ...   \n",
       "267   0.57834  20.0    3.97     0  0.575  8.297   67.0  2.4216  264     13.0   \n",
       "435  11.16040   0.0   18.10     0  0.740  6.629   94.6  2.1247  666     20.2   \n",
       "137   0.35233   0.0   21.89     0  0.624  6.454   98.4  1.8498  437     21.2   \n",
       "258   0.66351  20.0    3.97     0  0.647  7.333  100.0  1.8946  264     13.0   \n",
       "131   1.19294   0.0   21.89     0  0.624  6.326   97.7  2.2710  437     21.2   \n",
       "\n",
       "        B    LSTAT  \n",
       "55   395.93   4.81  \n",
       "157  363.43   4.59  \n",
       "325  393.68   5.08  \n",
       "419   48.45  22.74  \n",
       "249  393.74   6.56  \n",
       "..      ...    ...  \n",
       "267  384.54   7.44  \n",
       "435  109.85  23.27  \n",
       "137  394.08  14.59  \n",
       "258  383.29   7.79  \n",
       "131  396.90  12.26  \n",
       "\n",
       "[101 rows x 12 columns]"
      ]
     },
     "execution_count": 19,
     "metadata": {},
     "output_type": "execute_result"
    }
   ],
   "source": [
    "housing.drop(\"RAD\", axis=1)"
   ]
  },
  {
   "cell_type": "code",
   "execution_count": 20,
   "id": "3d9d1100",
   "metadata": {},
   "outputs": [
    {
     "data": {
      "text/plain": [
       "55      5\n",
       "157     5\n",
       "325     5\n",
       "419    24\n",
       "249     7\n",
       "       ..\n",
       "267     5\n",
       "435    24\n",
       "137     4\n",
       "258     5\n",
       "131     4\n",
       "Name: RAD, Length: 101, dtype: int64"
      ]
     },
     "execution_count": 20,
     "metadata": {},
     "output_type": "execute_result"
    }
   ],
   "source": [
    "median = housing[\"RAD\"].median()\n",
    "housing[\"RAD\"].fillna(median)"
   ]
  },
  {
   "cell_type": "code",
   "execution_count": 21,
   "id": "15fabbdc",
   "metadata": {},
   "outputs": [
    {
     "data": {
      "text/plain": [
       "SimpleImputer(strategy='median')"
      ]
     },
     "execution_count": 21,
     "metadata": {},
     "output_type": "execute_result"
    }
   ],
   "source": [
    "from sklearn.impute import SimpleImputer\n",
    "impute = SimpleImputer(strategy=\"median\")\n",
    "impute.fit(housing)"
   ]
  },
  {
   "cell_type": "code",
   "execution_count": 22,
   "id": "9ebc375c",
   "metadata": {},
   "outputs": [
    {
     "data": {
      "text/plain": [
       "array([2.9090e-01, 0.0000e+00, 1.0590e+01, 0.0000e+00, 5.3800e-01,\n",
       "       6.2510e+00, 7.4500e+01, 3.2157e+00, 5.0000e+00, 3.8400e+02,\n",
       "       1.9200e+01, 3.9030e+02, 1.0300e+01])"
      ]
     },
     "execution_count": 22,
     "metadata": {},
     "output_type": "execute_result"
    }
   ],
   "source": [
    "impute.statistics_"
   ]
  },
  {
   "cell_type": "code",
   "execution_count": 23,
   "id": "86908152",
   "metadata": {},
   "outputs": [],
   "source": [
    "X = impute.transform(housing)"
   ]
  },
  {
   "cell_type": "code",
   "execution_count": 24,
   "id": "cd7af5e4",
   "metadata": {},
   "outputs": [],
   "source": [
    "housing_tr = pd.DataFrame(X, columns=housing.columns)"
   ]
  },
  {
   "cell_type": "code",
   "execution_count": 25,
   "id": "5a7b8763",
   "metadata": {},
   "outputs": [
    {
     "data": {
      "text/html": [
       "<div>\n",
       "<style scoped>\n",
       "    .dataframe tbody tr th:only-of-type {\n",
       "        vertical-align: middle;\n",
       "    }\n",
       "\n",
       "    .dataframe tbody tr th {\n",
       "        vertical-align: top;\n",
       "    }\n",
       "\n",
       "    .dataframe thead th {\n",
       "        text-align: right;\n",
       "    }\n",
       "</style>\n",
       "<table border=\"1\" class=\"dataframe\">\n",
       "  <thead>\n",
       "    <tr style=\"text-align: right;\">\n",
       "      <th></th>\n",
       "      <th>CRIM</th>\n",
       "      <th>ZN</th>\n",
       "      <th>INDUS</th>\n",
       "      <th>CHAS</th>\n",
       "      <th>NOX</th>\n",
       "      <th>RM</th>\n",
       "      <th>AGE</th>\n",
       "      <th>DIS</th>\n",
       "      <th>RAD</th>\n",
       "      <th>TAX</th>\n",
       "      <th>PTRATIO</th>\n",
       "      <th>B</th>\n",
       "      <th>LSTAT</th>\n",
       "    </tr>\n",
       "  </thead>\n",
       "  <tbody>\n",
       "    <tr>\n",
       "      <th>0</th>\n",
       "      <td>0.01311</td>\n",
       "      <td>90.0</td>\n",
       "      <td>1.22</td>\n",
       "      <td>0.0</td>\n",
       "      <td>0.403</td>\n",
       "      <td>7.249</td>\n",
       "      <td>21.9</td>\n",
       "      <td>8.6966</td>\n",
       "      <td>5.0</td>\n",
       "      <td>226.0</td>\n",
       "      <td>17.9</td>\n",
       "      <td>395.93</td>\n",
       "      <td>4.81</td>\n",
       "    </tr>\n",
       "    <tr>\n",
       "      <th>1</th>\n",
       "      <td>1.22358</td>\n",
       "      <td>0.0</td>\n",
       "      <td>19.58</td>\n",
       "      <td>0.0</td>\n",
       "      <td>0.605</td>\n",
       "      <td>6.943</td>\n",
       "      <td>97.4</td>\n",
       "      <td>1.8773</td>\n",
       "      <td>5.0</td>\n",
       "      <td>403.0</td>\n",
       "      <td>14.7</td>\n",
       "      <td>363.43</td>\n",
       "      <td>4.59</td>\n",
       "    </tr>\n",
       "    <tr>\n",
       "      <th>2</th>\n",
       "      <td>0.19186</td>\n",
       "      <td>0.0</td>\n",
       "      <td>7.38</td>\n",
       "      <td>0.0</td>\n",
       "      <td>0.493</td>\n",
       "      <td>6.431</td>\n",
       "      <td>14.7</td>\n",
       "      <td>5.4159</td>\n",
       "      <td>5.0</td>\n",
       "      <td>287.0</td>\n",
       "      <td>19.6</td>\n",
       "      <td>393.68</td>\n",
       "      <td>5.08</td>\n",
       "    </tr>\n",
       "    <tr>\n",
       "      <th>3</th>\n",
       "      <td>11.81230</td>\n",
       "      <td>0.0</td>\n",
       "      <td>18.10</td>\n",
       "      <td>0.0</td>\n",
       "      <td>0.718</td>\n",
       "      <td>6.824</td>\n",
       "      <td>76.5</td>\n",
       "      <td>1.7940</td>\n",
       "      <td>24.0</td>\n",
       "      <td>666.0</td>\n",
       "      <td>20.2</td>\n",
       "      <td>48.45</td>\n",
       "      <td>22.74</td>\n",
       "    </tr>\n",
       "    <tr>\n",
       "      <th>4</th>\n",
       "      <td>0.19073</td>\n",
       "      <td>22.0</td>\n",
       "      <td>5.86</td>\n",
       "      <td>0.0</td>\n",
       "      <td>0.431</td>\n",
       "      <td>6.718</td>\n",
       "      <td>17.5</td>\n",
       "      <td>7.8265</td>\n",
       "      <td>7.0</td>\n",
       "      <td>330.0</td>\n",
       "      <td>19.1</td>\n",
       "      <td>393.74</td>\n",
       "      <td>6.56</td>\n",
       "    </tr>\n",
       "    <tr>\n",
       "      <th>...</th>\n",
       "      <td>...</td>\n",
       "      <td>...</td>\n",
       "      <td>...</td>\n",
       "      <td>...</td>\n",
       "      <td>...</td>\n",
       "      <td>...</td>\n",
       "      <td>...</td>\n",
       "      <td>...</td>\n",
       "      <td>...</td>\n",
       "      <td>...</td>\n",
       "      <td>...</td>\n",
       "      <td>...</td>\n",
       "      <td>...</td>\n",
       "    </tr>\n",
       "    <tr>\n",
       "      <th>96</th>\n",
       "      <td>0.57834</td>\n",
       "      <td>20.0</td>\n",
       "      <td>3.97</td>\n",
       "      <td>0.0</td>\n",
       "      <td>0.575</td>\n",
       "      <td>8.297</td>\n",
       "      <td>67.0</td>\n",
       "      <td>2.4216</td>\n",
       "      <td>5.0</td>\n",
       "      <td>264.0</td>\n",
       "      <td>13.0</td>\n",
       "      <td>384.54</td>\n",
       "      <td>7.44</td>\n",
       "    </tr>\n",
       "    <tr>\n",
       "      <th>97</th>\n",
       "      <td>11.16040</td>\n",
       "      <td>0.0</td>\n",
       "      <td>18.10</td>\n",
       "      <td>0.0</td>\n",
       "      <td>0.740</td>\n",
       "      <td>6.629</td>\n",
       "      <td>94.6</td>\n",
       "      <td>2.1247</td>\n",
       "      <td>24.0</td>\n",
       "      <td>666.0</td>\n",
       "      <td>20.2</td>\n",
       "      <td>109.85</td>\n",
       "      <td>23.27</td>\n",
       "    </tr>\n",
       "    <tr>\n",
       "      <th>98</th>\n",
       "      <td>0.35233</td>\n",
       "      <td>0.0</td>\n",
       "      <td>21.89</td>\n",
       "      <td>0.0</td>\n",
       "      <td>0.624</td>\n",
       "      <td>6.454</td>\n",
       "      <td>98.4</td>\n",
       "      <td>1.8498</td>\n",
       "      <td>4.0</td>\n",
       "      <td>437.0</td>\n",
       "      <td>21.2</td>\n",
       "      <td>394.08</td>\n",
       "      <td>14.59</td>\n",
       "    </tr>\n",
       "    <tr>\n",
       "      <th>99</th>\n",
       "      <td>0.66351</td>\n",
       "      <td>20.0</td>\n",
       "      <td>3.97</td>\n",
       "      <td>0.0</td>\n",
       "      <td>0.647</td>\n",
       "      <td>7.333</td>\n",
       "      <td>100.0</td>\n",
       "      <td>1.8946</td>\n",
       "      <td>5.0</td>\n",
       "      <td>264.0</td>\n",
       "      <td>13.0</td>\n",
       "      <td>383.29</td>\n",
       "      <td>7.79</td>\n",
       "    </tr>\n",
       "    <tr>\n",
       "      <th>100</th>\n",
       "      <td>1.19294</td>\n",
       "      <td>0.0</td>\n",
       "      <td>21.89</td>\n",
       "      <td>0.0</td>\n",
       "      <td>0.624</td>\n",
       "      <td>6.326</td>\n",
       "      <td>97.7</td>\n",
       "      <td>2.2710</td>\n",
       "      <td>4.0</td>\n",
       "      <td>437.0</td>\n",
       "      <td>21.2</td>\n",
       "      <td>396.90</td>\n",
       "      <td>12.26</td>\n",
       "    </tr>\n",
       "  </tbody>\n",
       "</table>\n",
       "<p>101 rows × 13 columns</p>\n",
       "</div>"
      ],
      "text/plain": [
       "         CRIM   ZN   INDUS   CHAS    NOX    RM    AGE     DIS    RAD    TAX  \\\n",
       "0     0.01311  90.0    1.22   0.0  0.403  7.249   21.9  8.6966   5.0  226.0   \n",
       "1     1.22358   0.0   19.58   0.0  0.605  6.943   97.4  1.8773   5.0  403.0   \n",
       "2     0.19186   0.0    7.38   0.0  0.493  6.431   14.7  5.4159   5.0  287.0   \n",
       "3    11.81230   0.0   18.10   0.0  0.718  6.824   76.5  1.7940  24.0  666.0   \n",
       "4     0.19073  22.0    5.86   0.0  0.431  6.718   17.5  7.8265   7.0  330.0   \n",
       "..        ...   ...     ...   ...    ...    ...    ...     ...   ...    ...   \n",
       "96    0.57834  20.0    3.97   0.0  0.575  8.297   67.0  2.4216   5.0  264.0   \n",
       "97   11.16040   0.0   18.10   0.0  0.740  6.629   94.6  2.1247  24.0  666.0   \n",
       "98    0.35233   0.0   21.89   0.0  0.624  6.454   98.4  1.8498   4.0  437.0   \n",
       "99    0.66351  20.0    3.97   0.0  0.647  7.333  100.0  1.8946   5.0  264.0   \n",
       "100   1.19294   0.0   21.89   0.0  0.624  6.326   97.7  2.2710   4.0  437.0   \n",
       "\n",
       "     PTRATIO     B    LSTAT  \n",
       "0       17.9  395.93   4.81  \n",
       "1       14.7  363.43   4.59  \n",
       "2       19.6  393.68   5.08  \n",
       "3       20.2   48.45  22.74  \n",
       "4       19.1  393.74   6.56  \n",
       "..       ...     ...    ...  \n",
       "96      13.0  384.54   7.44  \n",
       "97      20.2  109.85  23.27  \n",
       "98      21.2  394.08  14.59  \n",
       "99      13.0  383.29   7.79  \n",
       "100     21.2  396.90  12.26  \n",
       "\n",
       "[101 rows x 13 columns]"
      ]
     },
     "execution_count": 25,
     "metadata": {},
     "output_type": "execute_result"
    }
   ],
   "source": [
    "housing_tr"
   ]
  },
  {
   "cell_type": "code",
   "execution_count": 26,
   "id": "587cd3c7",
   "metadata": {},
   "outputs": [
    {
     "name": "stdout",
     "output_type": "stream",
     "text": [
      "<class 'pandas.core.frame.DataFrame'>\n",
      "RangeIndex: 101 entries, 0 to 100\n",
      "Data columns (total 13 columns):\n",
      " #   Column   Non-Null Count  Dtype  \n",
      "---  ------   --------------  -----  \n",
      " 0   CRIM     101 non-null    float64\n",
      " 1   ZN       101 non-null    float64\n",
      " 2   INDUS    101 non-null    float64\n",
      " 3   CHAS     101 non-null    float64\n",
      " 4   NOX      101 non-null    float64\n",
      " 5   RM       101 non-null    float64\n",
      " 6   AGE      101 non-null    float64\n",
      " 7   DIS      101 non-null    float64\n",
      " 8   RAD      101 non-null    float64\n",
      " 9   TAX      101 non-null    float64\n",
      " 10  PTRATIO  101 non-null    float64\n",
      " 11  B        101 non-null    float64\n",
      " 12  LSTAT    101 non-null    float64\n",
      "dtypes: float64(13)\n",
      "memory usage: 10.4 KB\n"
     ]
    }
   ],
   "source": [
    "housing_tr.info()"
   ]
  },
  {
   "cell_type": "code",
   "execution_count": 27,
   "id": "27bb1114",
   "metadata": {},
   "outputs": [],
   "source": [
    "#creating pipeline:"
   ]
  },
  {
   "cell_type": "code",
   "execution_count": 28,
   "id": "d33148ab",
   "metadata": {},
   "outputs": [],
   "source": [
    "from sklearn.pipeline import Pipeline\n",
    "from sklearn.preprocessing import StandardScaler\n",
    "my_pipeline = Pipeline([\n",
    "    ('impute', SimpleImputer(strategy=\"median\")),\n",
    "    ('std_values', StandardScaler()),\n",
    "])"
   ]
  },
  {
   "cell_type": "code",
   "execution_count": 29,
   "id": "5a30dcf3",
   "metadata": {},
   "outputs": [],
   "source": [
    "housing_num_tr = my_pipeline.fit_transform(housing)"
   ]
  },
  {
   "cell_type": "code",
   "execution_count": 30,
   "id": "8365177a",
   "metadata": {},
   "outputs": [
    {
     "data": {
      "text/plain": [
       "array([[-0.57352322,  3.76256138, -1.55064017, ..., -0.36973903,\n",
       "         0.44371033, -1.07432019],\n",
       "       [-0.32986506, -0.45102528,  1.14981541, ..., -1.91167007,\n",
       "         0.05464046, -1.10666494],\n",
       "       [-0.53754224, -0.45102528, -0.64460496, ...,  0.44941183,\n",
       "         0.41677472, -1.03462436],\n",
       "       ...,\n",
       "       [-0.50524088, -0.45102528,  1.48957862, ...,  1.22037735,\n",
       "         0.42156327,  0.3635509 ],\n",
       "       [-0.44260278,  0.48532731, -1.14616017, ..., -2.73082093,\n",
       "         0.29239208, -0.63619587],\n",
       "       [-0.33603265, -0.45102528,  1.48957862, ...,  1.22037735,\n",
       "         0.45532256,  0.02099061]])"
      ]
     },
     "execution_count": 30,
     "metadata": {},
     "output_type": "execute_result"
    }
   ],
   "source": [
    "housing_num_tr"
   ]
  },
  {
   "cell_type": "code",
   "execution_count": 31,
   "id": "f049e1d2",
   "metadata": {},
   "outputs": [
    {
     "data": {
      "text/plain": [
       "(101, 13)"
      ]
     },
     "execution_count": 31,
     "metadata": {},
     "output_type": "execute_result"
    }
   ],
   "source": [
    "housing_num_tr.shape"
   ]
  },
  {
   "cell_type": "code",
   "execution_count": 32,
   "id": "e23f8bb3",
   "metadata": {},
   "outputs": [],
   "source": [
    "#evaluating the model:\n"
   ]
  },
  {
   "cell_type": "code",
   "execution_count": 33,
   "id": "fca07b8c",
   "metadata": {},
   "outputs": [
    {
     "data": {
      "text/plain": [
       "RandomForestRegressor()"
      ]
     },
     "execution_count": 33,
     "metadata": {},
     "output_type": "execute_result"
    }
   ],
   "source": [
    "from sklearn.linear_model import LinearRegression\n",
    "from sklearn.tree import DecisionTreeRegressor\n",
    "from sklearn.ensemble import RandomForestRegressor\n",
    "#model = LinearRegression()\n",
    "#model = DecisionTreeRegressor()\n",
    "model = RandomForestRegressor()\n",
    "model.fit(housing_num_tr, housing_labels)"
   ]
  },
  {
   "cell_type": "code",
   "execution_count": 34,
   "id": "bf554b73",
   "metadata": {},
   "outputs": [],
   "source": [
    "some_data = housing.iloc[:5]\n",
    "some_labels = housing_labels.iloc[:5]\n"
   ]
  },
  {
   "cell_type": "code",
   "execution_count": 35,
   "id": "80deae95",
   "metadata": {},
   "outputs": [],
   "source": [
    "prepared_data = my_pipeline.transform(some_data)"
   ]
  },
  {
   "cell_type": "code",
   "execution_count": 36,
   "id": "d0f16143",
   "metadata": {},
   "outputs": [
    {
     "data": {
      "text/plain": [
       "array([37.009, 36.942, 24.423, 10.694, 26.231])"
      ]
     },
     "execution_count": 36,
     "metadata": {},
     "output_type": "execute_result"
    }
   ],
   "source": [
    "model.predict(prepared_data)"
   ]
  },
  {
   "cell_type": "code",
   "execution_count": 37,
   "id": "fa9f4759",
   "metadata": {},
   "outputs": [
    {
     "data": {
      "text/plain": [
       "list[55     35.4\n",
       "157    41.3\n",
       "325    24.6\n",
       "419     8.4\n",
       "249    26.2\n",
       "Name: MEDV, dtype: float64]"
      ]
     },
     "execution_count": 37,
     "metadata": {},
     "output_type": "execute_result"
    }
   ],
   "source": [
    "list[some_labels]"
   ]
  },
  {
   "cell_type": "code",
   "execution_count": 38,
   "id": "24e291e2",
   "metadata": {},
   "outputs": [],
   "source": [
    "#model testing:"
   ]
  },
  {
   "cell_type": "code",
   "execution_count": 39,
   "id": "57b5d9c9",
   "metadata": {},
   "outputs": [],
   "source": [
    "from sklearn.metrics import mean_squared_error\n",
    "import numpy as np\n",
    "housing_predictions = model.predict(housing_num_tr)\n",
    "mse = mean_squared_error(housing_labels, housing_predictions)\n",
    "rmse = np.sqrt(mse)"
   ]
  },
  {
   "cell_type": "code",
   "execution_count": 40,
   "id": "40af39ba",
   "metadata": {},
   "outputs": [
    {
     "data": {
      "text/plain": [
       "1.6074696153758008"
      ]
     },
     "execution_count": 40,
     "metadata": {},
     "output_type": "execute_result"
    }
   ],
   "source": [
    "rmse"
   ]
  },
  {
   "cell_type": "code",
   "execution_count": 41,
   "id": "336f2c3e",
   "metadata": {},
   "outputs": [],
   "source": [
    "#cross - validation:"
   ]
  },
  {
   "cell_type": "code",
   "execution_count": 42,
   "id": "80b4212b",
   "metadata": {},
   "outputs": [],
   "source": [
    "from sklearn.model_selection import cross_val_score\n",
    "scores = cross_val_score(model, housing_num_tr, housing_labels, scoring=\"neg_mean_squared_error\", cv=10)\n",
    "rmse_score = np.sqrt(-scores)"
   ]
  },
  {
   "cell_type": "code",
   "execution_count": 43,
   "id": "2529795f",
   "metadata": {},
   "outputs": [
    {
     "data": {
      "text/plain": [
       "array([3.94828856, 3.86640789, 5.76512619, 3.10607452, 9.47978256,\n",
       "       3.0048068 , 3.71291112, 3.27004763, 3.07666038, 3.74729667])"
      ]
     },
     "execution_count": 43,
     "metadata": {},
     "output_type": "execute_result"
    }
   ],
   "source": [
    "rmse_score"
   ]
  },
  {
   "cell_type": "code",
   "execution_count": 46,
   "id": "4c095b8f",
   "metadata": {},
   "outputs": [],
   "source": [
    "def print_scores(scores):\n",
    "    print(\"scores:\", scores)\n",
    "    print(\"mean:\", scores.mean())\n",
    "    print(\"standard deviation:\", scores.std())"
   ]
  },
  {
   "cell_type": "code",
   "execution_count": 45,
   "id": "634024d1",
   "metadata": {},
   "outputs": [
    {
     "name": "stdout",
     "output_type": "stream",
     "text": [
      "scores: [3.94828856 3.86640789 5.76512619 3.10607452 9.47978256 3.0048068\n",
      " 3.71291112 3.27004763 3.07666038 3.74729667]\n",
      "mean: <built-in method mean of numpy.ndarray object at 0x7f97c448fe70>\n",
      "standard deviation: <built-in method std of numpy.ndarray object at 0x7f97c448fe70>\n"
     ]
    }
   ],
   "source": [
    "print_scores(rmse_score)"
   ]
  },
  {
   "cell_type": "code",
   "execution_count": 47,
   "id": "6a03c415",
   "metadata": {},
   "outputs": [],
   "source": [
    "#saving the model:\n"
   ]
  },
  {
   "cell_type": "code",
   "execution_count": 49,
   "id": "a1cd7b89",
   "metadata": {},
   "outputs": [
    {
     "data": {
      "text/plain": [
       "['house_project.joblib']"
      ]
     },
     "execution_count": 49,
     "metadata": {},
     "output_type": "execute_result"
    }
   ],
   "source": [
    "from joblib import dump, load\n",
    "dump(model, 'house_project.joblib')"
   ]
  },
  {
   "cell_type": "code",
   "execution_count": 50,
   "id": "05a3e19d",
   "metadata": {},
   "outputs": [],
   "source": [
    "#testing the model on test data:"
   ]
  },
  {
   "cell_type": "code",
   "execution_count": 61,
   "id": "5861ae27",
   "metadata": {},
   "outputs": [
    {
     "name": "stdout",
     "output_type": "stream",
     "text": [
      "[19.081 19.92  19.754 19.785 22.246 23.364 14.091 15.098 24.462 11.007\n",
      " 19.922 10.902 11.596 13.478 24.582  9.155 42.844 21.452 14.608 17.161\n",
      " 22.449  9.814 13.594  9.611 12.484 18.581 18.495 14.302 21.542 16.63\n",
      " 20.899 33.02  39.867 25.325 18.926 25.109 26.559 14.383 19.385  9.111\n",
      " 22.295 38.364 24.781 10.546 42.719 19.422 21.915 41.422 21.783 20.759\n",
      " 23.995 19.749 23.539 28.963 23.061 26.455 20.275  8.463 23.077 21.34\n",
      " 28.928 19.473 21.655 19.664 20.015 38.727  7.739 39.773 13.958 20.122\n",
      " 24.706 18.171 25.285 20.928 41.556 14.738 23.92  13.754 23.522 43.52\n",
      " 37.478 36.882 11.793 18.927 14.757 30.287 14.172 31.593 11.065 29.172\n",
      " 32.052 28.267 10.724 12.051 25.211 10.975 38.179 19.846 14.157 18.475\n",
      " 12.465 24.318 24.542 34.875 17.845 24.279 19.083 20.639 22.952 10.957\n",
      " 19.337 11.386 13.992 20.431 21.174 18.719 17.635 26.166 20.221 19.652\n",
      " 17.342 33.162 18.588 19.281 20.88  22.986 23.655 22.366 20.196 23.797\n",
      " 25.329 43.243 24.792 23.645 23.614 20.714 21.512 24.441 19.778 20.61\n",
      " 22.356 19.654 33.074 20.016 37.205 22.942 23.926 36.065 25.845 21.266\n",
      " 27.856 17.516 19.842 35.44  22.679 30.401 18.294 24.517 16.378 18.748\n",
      " 20.79  31.72  44.182 12.163 15.992 21.5   10.493 23.098 14.28  29.689\n",
      " 23.724 24.645 19.514 14.34  41.13  31.646 21.082 19.329 34.905 21.12\n",
      " 21.745 13.61  23.137 29.435 21.77  22.36  43.806 41.363 43.523 41.311\n",
      " 10.771 15.005 19.174 19.184 13.126 20.322 32.935 10.655 22.128 10.701\n",
      " 19.817 27.855 20.512 23.175  8.716  8.484 20.086 20.042 38.53  23.707\n",
      " 24.7   20.958 23.887 18.653 13.541 21.904 14.975 18.117 43.549 13.541\n",
      " 37.424 22.003 10.977 19.262 22.633 26.462 25.865 28.133 26.63  23.065\n",
      " 10.584 14.198 10.659 19.354 22.11  14.012 14.479 19.015 22.991 14.898\n",
      " 20.367  8.438 12.171 10.518 31.267 39.839 44.37  31.303 18.592 19.639\n",
      " 15.044 19.307 15.757 15.066 17.776 17.62  42.9   37.148 42.784 33.776\n",
      " 18.801 19.05  23.667 17.827 14.642 14.364 14.654 26.184 18.7   14.801\n",
      " 12.633 20.236 22.111 23.041 19.815 34.464 16.657 25.818 15.633 12.917\n",
      " 25.033 33.459 23.783 28.525 20.276 36.706 35.536 19.817 24.591 18.065\n",
      " 17.555 19.794 42.986 12.093 24.609 22.567 32.24  19.309 14.574 11.498\n",
      " 15.033 25.28  26.666 14.65  24.207 26.317 32.239 21.388 16.141 29.475\n",
      " 34.509 37.505 24.533 19.696 19.751 18.517 18.582 39.898 18.601 17.71\n",
      " 13.926 20.574 31.792 19.438 11.662 24.406 19.953 23.161 21.351 15.739\n",
      " 15.059 12.647 20.787 22.949 20.79  23.071 27.592  8.696 15.927 19.106\n",
      " 19.753 19.134 17.154 13.776 19.347 33.936 44.575 41.831 19.844 14.557\n",
      " 21.063 16.823 11.079 21.748 24.339 21.272 14.529 16.073 40.035 13.008\n",
      " 26.623 20.42  22.247 34.785 20.993 20.435 28.312 19.969 18.701 15.278\n",
      " 10.915 19.644 17.662 23.382 35.025 20.42  25.618  8.226 11.638 16.401\n",
      " 43.884 18.841 14.615 15.095 22.494 18.817 38.063 28.853  9.453 36.9\n",
      " 19.576 23.79   8.748 41.869 36.78  14.166  9.432 14.462 11.165 12.614\n",
      " 10.023 22.585 29.932 16.965 11.9  ] [19.4, 19.2, 20.0, 20.1, 24.5, 22.0, 15.2, 16.7, 23.1, 17.2, 21.7, 11.5, 13.8, 13.1, 21.6, 8.5, 50.0, 23.4, 15.6, 21.7, 28.7, 13.8, 13.3, 13.8, 11.8, 18.4, 20.3, 19.0, 20.9, 18.3, 19.6, 28.7, 36.4, 22.2, 24.5, 24.4, 26.6, 14.6, 20.3, 7.2, 22.0, 34.6, 23.3, 13.1, 44.8, 16.8, 23.8, 43.8, 19.8, 23.3, 23.3, 21.1, 29.8, 30.5, 27.5, 32.5, 19.9, 5.0, 19.4, 21.2, 26.6, 10.9, 23.0, 19.3, 18.9, 32.9, 8.8, 35.2, 13.8, 20.6, 24.4, 13.8, 20.7, 29.6, 42.8, 14.3, 25.1, 19.1, 21.9, 48.8, 33.4, 37.3, 12.1, 16.7, 14.1, 31.1, 14.9, 28.5, 10.9, 30.1, 50.0, 31.0, 10.5, 7.0, 23.9, 14.4, 31.5, 19.5, 12.7, 19.4, 9.5, 22.3, 23.1, 33.1, 22.5, 24.1, 20.3, 19.6, 27.5, 8.3, 23.2, 17.8, 17.8, 20.8, 20.5, 17.5, 18.5, 28.6, 20.1, 22.5, 19.3, 29.6, 17.4, 22.9, 18.2, 36.2, 28.1, 23.0, 21.0, 22.9, 25.0, 50.0, 24.1, 30.7, 22.0, 20.6, 21.0, 28.4, 19.5, 24.0, 25.0, 20.0, 33.0, 21.2, 34.9, 21.2, 23.7, 34.9, 26.7, 22.8, 27.5, 20.4, 24.7, 36.2, 23.8, 30.1, 21.7, 23.0, 18.0, 17.6, 20.9, 32.0, 48.3, 13.3, 18.1, 18.6, 10.2, 24.8, 15.1, 28.2, 27.1, 22.9, 19.7, 19.1, 43.1, 23.9, 18.7, 17.5, 37.0, 22.2, 20.6, 9.6, 23.9, 29.9, 20.4, 23.6, 46.0, 50.0, 50.0, 50.0, 8.3, 18.4, 26.4, 18.7, 12.7, 20.7, 23.6, 7.5, 22.3, 5.0, 23.1, 29.8, 21.7, 21.6, 10.2, 17.9, 17.0, 15.6, 31.7, 22.9, 22.2, 19.6, 24.6, 17.2, 13.5, 20.2, 14.1, 21.5, 50.0, 10.2, 36.5, 20.1, 10.8, 16.0, 23.1, 28.4, 30.1, 27.9, 31.5, 26.4, 13.9, 14.1, 11.3, 24.3, 20.6, 13.5, 14.5, 18.9, 18.6, 16.5, 18.5, 8.4, 15.6, 12.3, 35.1, 21.9, 50.0, 24.8, 16.6, 22.6, 15.2, 11.7, 19.5, 13.6, 16.6, 20.5, 41.7, 31.6, 42.3, 37.2, 16.2, 20.4, 11.9, 27.1, 15.6, 13.1, 14.9, 28.0, 23.1, 13.6, 13.4, 19.8, 24.4, 20.6, 17.4, 30.3, 19.7, 29.1, 16.1, 12.5, 24.7, 50.0, 29.4, 50.0, 21.8, 29.0, 35.4, 20.8, 15.0, 17.5, 23.1, 19.3, 50.0, 13.2, 27.9, 20.4, 31.6, 22.0, 14.8, 16.3, 17.8, 28.7, 23.9, 14.9, 23.8, 23.5, 31.2, 15.3, 17.4, 33.8, 33.4, 33.2, 24.1, 21.9, 18.5, 21.7, 19.3, 33.3, 22.4, 19.8, 23.7, 22.2, 26.6, 19.1, 11.8, 23.2, 22.8, 21.1, 21.4, 15.6, 15.2, 27.5, 21.0, 23.9, 22.6, 20.5, 22.8, 10.5, 19.9, 19.4, 16.1, 23.2, 17.8, 11.7, 21.5, 32.2, 45.4, 50.0, 21.7, 19.4, 23.1, 15.0, 7.2, 19.1, 15.0, 23.8, 13.0, 10.4, 38.7, 13.4, 25.0, 18.4, 24.3, 50.0, 16.1, 22.6, 22.0, 14.5, 19.6, 16.2, 12.8, 21.4, 18.8, 22.2, 34.9, 21.7, 25.2, 7.2, 14.6, 19.5, 50.0, 21.2, 23.2, 14.4, 16.5, 21.8, 34.7, 29.1, 17.2, 32.7, 20.0, 22.0, 7.0, 44.0, 33.2, 14.5, 5.6, 17.3, 8.8, 15.7, 9.7, 18.2, 27.0, 19.4, 11.9]\n"
     ]
    }
   ],
   "source": [
    "X_test = strat_test_set.drop(\"MEDV\", axis=1)\n",
    "Y_test = strat_test_set[\"MEDV\"].copy()\n",
    "X_test_prepared = my_pipeline.transform(X_test)\n",
    "final_predictions = model.predict(X_test_prepared)\n",
    "final_mse = mean_squared_error(Y_test, final_predictions)\n",
    "final_rmse = np.sqrt(final_mse)\n",
    "print(final_predictions,list( Y_test))"
   ]
  },
  {
   "cell_type": "code",
   "execution_count": 62,
   "id": "55d5a191",
   "metadata": {},
   "outputs": [
    {
     "data": {
      "text/plain": [
       "3.971011431939297"
      ]
     },
     "execution_count": 62,
     "metadata": {},
     "output_type": "execute_result"
    }
   ],
   "source": [
    "final_rmse"
   ]
  },
  {
   "cell_type": "code",
   "execution_count": null,
   "id": "d1630e11",
   "metadata": {},
   "outputs": [],
   "source": []
  }
 ],
 "metadata": {
  "kernelspec": {
   "display_name": "Python 3 (ipykernel)",
   "language": "python",
   "name": "python3"
  },
  "language_info": {
   "codemirror_mode": {
    "name": "ipython",
    "version": 3
   },
   "file_extension": ".py",
   "mimetype": "text/x-python",
   "name": "python",
   "nbconvert_exporter": "python",
   "pygments_lexer": "ipython3",
   "version": "3.9.7"
  }
 },
 "nbformat": 4,
 "nbformat_minor": 5
}
